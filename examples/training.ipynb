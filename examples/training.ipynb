{
 "cells": [
  {
   "cell_type": "markdown",
   "metadata": {},
   "source": [
    "# Training Interpretable Networks?\n",
    "\n",
    "This notebook presents an attempt at trying to get a neural network to learn interpretable modules, by replacing activations of a module on some input with another for input's provided they both evaluate to the same predicate for some predicate we decide. This induces the property expressed by the predicate in the module, thus making it easy to interpret, and has downstream effects on subsequent modules. This also seems to lead to a better performance, at least in the beginning of the training (more careful hyperparameter tuning might make a difference here)"
   ]
  },
  {
   "cell_type": "code",
   "execution_count": 1,
   "metadata": {},
   "outputs": [],
   "source": [
    "%%capture\n",
    "!pip install git+https://github.com/pranavgade20/causal-verifier.git"
   ]
  },
  {
   "cell_type": "code",
   "execution_count": 2,
   "metadata": {},
   "outputs": [
    {
     "name": "stderr",
     "output_type": "stream",
     "text": [
      "2023-02-25 22:58:36.003156: I tensorflow/core/platform/cpu_feature_guard.cc:193] This TensorFlow binary is optimized with oneAPI Deep Neural Network Library (oneDNN) to use the following CPU instructions in performance-critical operations:  FMA\n",
      "To enable them in other operations, rebuild TensorFlow with the appropriate compiler flags.\n"
     ]
    }
   ],
   "source": [
    "import torch as t\n",
    "import torch.nn as nn\n",
    "import pytorch_lightning as pl\n",
    "from pytorch_lightning.callbacks import TQDMProgressBar\n",
    "from pytorch_lightning.loggers import TensorBoardLogger\n",
    "\n",
    "from causal_verifier import Predicate, Hook\n",
    "from torch.utils.data import TensorDataset, DataLoader\n",
    "\n",
    "import seaborn as sns\n",
    "import numpy as np\n",
    "import matplotlib.pyplot as plt"
   ]
  },
  {
   "cell_type": "code",
   "execution_count": 3,
   "metadata": {},
   "outputs": [
    {
     "data": {
      "text/plain": [
       "<torch._C.Generator at 0x7f21b71243f0>"
      ]
     },
     "execution_count": 3,
     "metadata": {},
     "output_type": "execute_result"
    }
   ],
   "source": [
    "t.manual_seed(0)"
   ]
  },
  {
   "cell_type": "code",
   "execution_count": 4,
   "metadata": {},
   "outputs": [],
   "source": [
    "class ANDPredicate(Predicate):\n",
    "    def __call__(self, x):\n",
    "        return (x[..., 0] > 0.5) & (x[..., 1] > 0.5)"
   ]
  },
  {
   "cell_type": "code",
   "execution_count": 5,
   "metadata": {},
   "outputs": [],
   "source": [
    "class XORNet(pl.LightningModule):\n",
    "    def __init__(self, hooks=True):\n",
    "        super().__init__()\n",
    "        self.a = nn.Linear(2, 1)  # we'd like this module to learn to OR bits\n",
    "        self.b = nn.Linear(2, 1)  # we'd like this module to learn to NAND bits\n",
    "        self.s1 = nn.Sigmoid()\n",
    "        self.c = nn.Linear(2, 1)  # if the last steps went right, our output is ((x OR y) AND (x NAND y)), so we'd like this to learn to AND\n",
    "        self.s2 = nn.Sigmoid()\n",
    "        if hooks:\n",
    "            self.mappings={\n",
    "                self.a: lambda data: (data[..., 0] > 0.5) | (data[..., 1] > 0.5),  # OR predicate\n",
    "                self.b: ANDPredicate(),  # equivalent to NAND predicate\n",
    "            }\n",
    "            self.hooks = [Hook(layer, pred) for layer, pred in self.mappings.items()]\n",
    "\n",
    "    def forward(self, x):\n",
    "        act_or = self.a(x)\n",
    "        act_nand = self.b(x)\n",
    "        y = self.s1(t.cat([act_or, act_nand], dim=1))\n",
    "        return self.s2(self.c(y))\n",
    "\n",
    "    def loss_fn(self, out, target):\n",
    "        return nn.functional.mse_loss(out, target)\n",
    "\n",
    "    def training_step(self, batch, batch_idx):\n",
    "        x, y = batch\n",
    "        y_hat = self(x)\n",
    "        loss = self.loss_fn(y_hat[:, 0], y)\n",
    "        self.log(\"train/loss\", loss, on_step=True, prog_bar=True, logger=True)\n",
    "        return loss\n",
    "\n",
    "    def configure_optimizers(self):\n",
    "        optimizer = t.optim.Adam(self.parameters(), lr=.01)\n",
    "        return optimizer\n"
   ]
  },
  {
   "cell_type": "code",
   "execution_count": 6,
   "metadata": {},
   "outputs": [],
   "source": [
    "data_batch = t.tensor([[0, 0], [0, 1], [1, 0], [1, 1], ], dtype=t.float)\n",
    "labels = t.tensor([0, 1, 1, 0], dtype=t.float)\n",
    "train_loader = DataLoader(TensorDataset(data_batch, labels), batch_size=16, shuffle=True)"
   ]
  },
  {
   "cell_type": "code",
   "execution_count": 7,
   "metadata": {},
   "outputs": [
    {
     "data": {
      "text/html": [
       "\n",
       "      <iframe id=\"tensorboard-frame-edec37a7463bb97c\" width=\"100%\" height=\"800\" frameborder=\"0\">\n",
       "      </iframe>\n",
       "      <script>\n",
       "        (function() {\n",
       "          const frame = document.getElementById(\"tensorboard-frame-edec37a7463bb97c\");\n",
       "          const url = new URL(\"/\", window.location);\n",
       "          const port = 6006;\n",
       "          if (port) {\n",
       "            url.port = port;\n",
       "          }\n",
       "          frame.src = url;\n",
       "        })();\n",
       "      </script>\n",
       "    "
      ],
      "text/plain": [
       "<IPython.core.display.HTML object>"
      ]
     },
     "metadata": {},
     "output_type": "display_data"
    }
   ],
   "source": [
    "%load_ext tensorboard\n",
    "!rm -rf content/logs\n",
    "%tensorboard --logdir content/logs"
   ]
  },
  {
   "cell_type": "code",
   "execution_count": 8,
   "metadata": {},
   "outputs": [
    {
     "name": "stderr",
     "output_type": "stream",
     "text": [
      "GPU available: True (cuda), used: False\n",
      "TPU available: False, using: 0 TPU cores\n",
      "IPU available: False, using: 0 IPUs\n",
      "HPU available: False, using: 0 HPUs\n",
      "/home/p/.local/lib/python3.10/site-packages/pytorch_lightning/trainer/trainer.py:1766: PossibleUserWarning: GPU available but not used. Set `accelerator` and `devices` using `Trainer(accelerator='gpu', devices=1)`.\n",
      "  rank_zero_warn(\n",
      "\n",
      "  | Name | Type    | Params\n",
      "---------------------------------\n",
      "0 | a    | Linear  | 3     \n",
      "1 | b    | Linear  | 3     \n",
      "2 | s1   | Sigmoid | 0     \n",
      "3 | c    | Linear  | 3     \n",
      "4 | s2   | Sigmoid | 0     \n",
      "---------------------------------\n",
      "9         Trainable params\n",
      "0         Non-trainable params\n",
      "9         Total params\n",
      "0.000     Total estimated model params size (MB)\n",
      "/home/p/.local/lib/python3.10/site-packages/pytorch_lightning/trainer/connectors/data_connector.py:219: PossibleUserWarning: The dataloader, train_dataloader, does not have many workers which may be a bottleneck. Consider increasing the value of the `num_workers` argument` (try 16 which is the number of cpus on this machine) in the `DataLoader` init to improve performance.\n",
      "  rank_zero_warn(\n"
     ]
    },
    {
     "data": {
      "application/vnd.jupyter.widget-view+json": {
       "model_id": "cba4ecc23613474bb9e6ae61e340d05d",
       "version_major": 2,
       "version_minor": 0
      },
      "text/plain": [
       "Training: 0it [00:00, ?it/s]"
      ]
     },
     "metadata": {},
     "output_type": "display_data"
    },
    {
     "name": "stderr",
     "output_type": "stream",
     "text": [
      "`Trainer.fit` stopped: `max_epochs=1000` reached.\n"
     ]
    }
   ],
   "source": [
    "hooked_net = XORNet()\n",
    "trainer = pl.Trainer(max_epochs=1000, accelerator=\"cpu\", devices=1,\n",
    "                     logger=TensorBoardLogger(save_dir='content/logs',name='hooked_model',version='1.0.0'),\n",
    "                     log_every_n_steps=1)\n",
    "trainer.fit(model=hooked_net, train_dataloaders=train_loader)"
   ]
  },
  {
   "cell_type": "code",
   "execution_count": 9,
   "metadata": {},
   "outputs": [
    {
     "name": "stderr",
     "output_type": "stream",
     "text": [
      "GPU available: True (cuda), used: False\n",
      "TPU available: False, using: 0 TPU cores\n",
      "IPU available: False, using: 0 IPUs\n",
      "HPU available: False, using: 0 HPUs\n",
      "\n",
      "  | Name | Type    | Params\n",
      "---------------------------------\n",
      "0 | a    | Linear  | 3     \n",
      "1 | b    | Linear  | 3     \n",
      "2 | s1   | Sigmoid | 0     \n",
      "3 | c    | Linear  | 3     \n",
      "4 | s2   | Sigmoid | 0     \n",
      "---------------------------------\n",
      "9         Trainable params\n",
      "0         Non-trainable params\n",
      "9         Total params\n",
      "0.000     Total estimated model params size (MB)\n"
     ]
    },
    {
     "data": {
      "application/vnd.jupyter.widget-view+json": {
       "model_id": "47212d72b0b347ed838ac62a272a1158",
       "version_major": 2,
       "version_minor": 0
      },
      "text/plain": [
       "Training: 0it [00:00, ?it/s]"
      ]
     },
     "metadata": {},
     "output_type": "display_data"
    },
    {
     "name": "stderr",
     "output_type": "stream",
     "text": [
      "`Trainer.fit` stopped: `max_epochs=1000` reached.\n"
     ]
    }
   ],
   "source": [
    "normal_net = XORNet(hooks=False)\n",
    "trainer = pl.Trainer(max_epochs=1000, accelerator=\"cpu\", devices=1,\n",
    "                     logger=TensorBoardLogger(save_dir='content/logs', name='normal_model', version='1.0.0'),\n",
    "                     log_every_n_steps=1)\n",
    "trainer.fit(model=normal_net, train_dataloaders=train_loader)\n"
   ]
  },
  {
   "cell_type": "code",
   "execution_count": 10,
   "metadata": {
    "scrolled": true
   },
   "outputs": [
    {
     "name": "stdout",
     "output_type": "stream",
     "text": [
      "First  module weight: tensor([[-3.1446, -3.0850]]), bias: tensor([2.0429])\n",
      "Second module weight: tensor([[-2.6992, -2.7368]]), bias: tensor([3.4653])\n",
      "Third  module weight: tensor([[-5.8924,  5.8715]]), bias: tensor([-1.0700])\n"
     ]
    },
    {
     "data": {
      "image/png": "[encoded data removed]",
      "text/plain": [
       "<Figure size 1080x288 with 3 Axes>"
      ]
     },
     "metadata": {
      "needs_background": "light"
     },
     "output_type": "display_data"
    }
   ],
   "source": [
    "from sklearn.discriminant_analysis import LinearDiscriminantAnalysis\n",
    "def plot_points_and_line(ax, module, data_batch):\n",
    "    y = t.sigmoid(module(data_batch)).round().detach()[:,0]\n",
    "    lda = LinearDiscriminantAnalysis().fit(data_batch, y)\n",
    "    x1 = np.array([-1, 2])\n",
    "    b, w1, w2 = lda.intercept_[0], lda.coef_[0][0], lda.coef_[0][1]\n",
    "    y1 = -(b+x1*w1)/w2\n",
    "    plot = sns.scatterplot(ax=ax, x=data_batch[:,0], y=data_batch[:,1], hue=y)\n",
    "    plot.set_xlim(-0.1, 1.1)\n",
    "    plot.set_ylim(-0.1, 1.1)\n",
    "    plot.plot(x1,y1,c='r')\n",
    "    return plot\n",
    "\n",
    "fig, axes = plt.subplots(1, 3, figsize=(15, 4))\n",
    "fig.suptitle(\"Modified network\", fontsize=16)\n",
    "plot_points_and_line(axes[0], hooked_net.a, data_batch).set_title('module 1: x NOR y')\n",
    "plot_points_and_line(axes[1], hooked_net.b, data_batch).set_title('module 2: x NAND y')\n",
    "plot_points_and_line(axes[2], hooked_net.c, data_batch).set_title('module 3: (~x) AND y')\n",
    "\n",
    "print(f'First  module weight: {hooked_net.a.weight.detach()}, bias: {hooked_net.a.bias.detach()}')\n",
    "print(f'Second module weight: {hooked_net.b.weight.detach()}, bias: {hooked_net.b.bias.detach()}')\n",
    "print(f'Third  module weight: {hooked_net.c.weight.detach()}, bias: {hooked_net.c.bias.detach()}')\n"
   ]
  },
  {
   "cell_type": "markdown",
   "metadata": {},
   "source": [
    "### What happened?\n",
    "\n",
    "I think the network learnt how to perform the NOR operation in the first module (which evaluates to the same predicate as OR), NAND in the second (which evaluates to the same predicate as AND), and it had to learn to invert the first input and AND it with the second in the third module, as this is how XOR is typically composed out of linear operations.\n",
    "\n",
    "We can also look at the weights, and compare them to what [one could come up with](https://github.com/pranavgade20/causal-verifier/blob/53cf02f24afff2cafb586fd753ce2330998ddb62/examples/example.py#L20) if asked to write down weights that perform these operations - the module that implements NOR has large negative weights, and a positive bias approximately equal to a third of the absolute value of the sum; the module that implements NAND has large negative weights, and a positive bias approximately equal to two-thirds of the absolute value of the sum; while the third module, which inverts one of the inputs and ANDs it with the other, appears to be less robust, with the bias being around a tenth of the sum of absolute values of the weights.\n",
    "\n",
    "The modifications seem to work, as the unmodified network learns different functions which are arguably less straightforward to interpret."
   ]
  },
  {
   "cell_type": "code",
   "execution_count": 11,
   "metadata": {},
   "outputs": [
    {
     "name": "stdout",
     "output_type": "stream",
     "text": [
      "First  module weight: tensor([[ 6.3114, -5.9263]]), bias: tensor([-3.5058])\n",
      "Second module weight: tensor([[ 6.3001, -6.0117]]), bias: tensor([3.3297])\n",
      "Third  module weight: tensor([[ 6.2536, -6.4361]]), bias: tensor([3.2282])\n"
     ]
    },
    {
     "data": {
      "image/png": "[encoded data removed]",
      "text/plain": [
       "<Figure size 1080x288 with 3 Axes>"
      ]
     },
     "metadata": {
      "needs_background": "light"
     },
     "output_type": "display_data"
    }
   ],
   "source": [
    "fig, axes = plt.subplots(1, 3, figsize=(15, 4))\n",
    "fig.suptitle(\"Unmodified network\", fontsize=16)\n",
    "plot_points_and_line(axes[0], normal_net.a, data_batch).set_title('module 1: x AND (~y)')\n",
    "plot_points_and_line(axes[1], normal_net.b, data_batch).set_title('module 2: x OR (~y)')\n",
    "plot_points_and_line(axes[2], normal_net.c, data_batch).set_title('module 3: x OR (~y)')\n",
    "\n",
    "print(f'First  module weight: {normal_net.a.weight.detach()}, bias: {normal_net.a.bias.detach()}')\n",
    "print(f'Second module weight: {normal_net.b.weight.detach()}, bias: {normal_net.b.bias.detach()}')\n",
    "print(f'Third  module weight: {normal_net.c.weight.detach()}, bias: {normal_net.c.bias.detach()}')\n"
   ]
  },
  {
   "cell_type": "code",
   "execution_count": 12,
   "metadata": {},
   "outputs": [
    {
     "name": "stdout",
     "output_type": "stream",
     "text": [
      "WARNING:tensorflow:From /usr/lib/python3.10/site-packages/tensorflow/python/summary/summary_iterator.py:27: tf_record_iterator (from tensorflow.python.lib.io.tf_record) is deprecated and will be removed in a future version.\n",
      "Instructions for updating:\n",
      "Use eager execution and: \n",
      "`tf.data.TFRecordDataset(path)`\n",
      "Loss curves:\n"
     ]
    },
    {
     "data": {
      "image/png": "[encoded data removed]",
      "text/plain": [
       "<Figure size 432x288 with 1 Axes>"
      ]
     },
     "metadata": {
      "needs_background": "light"
     },
     "output_type": "display_data"
    }
   ],
   "source": [
    "from tensorflow.python.summary.summary_iterator import summary_iterator\n",
    "import glob\n",
    "\n",
    "plt.plot([i.summary.value[0].simple_value for i in summary_iterator(glob.glob('content/logs/normal_model/1.0.0/events*')[0]) if len(i.summary.value) > 0 and i.summary.value[0].tag == 'train/loss'])\n",
    "plt.plot([i.summary.value[0].simple_value for i in summary_iterator(glob.glob('content/logs/hooked_model/1.0.0/events*')[0]) if len(i.summary.value) > 0 and i.summary.value[0].tag == 'train/loss'])\n",
    "plt.legend(['Normal Model', 'Modified Model'])\n",
    "print('Loss curves:')"
   ]
  }
 ],
 "metadata": {
  "kernelspec": {
   "display_name": "Python 3 (ipykernel)",
   "language": "python",
   "name": "python3"
  },
  "language_info": {
   "codemirror_mode": {
    "name": "ipython",
    "version": 3
   },
   "file_extension": ".py",
   "mimetype": "text/x-python",
   "name": "python",
   "nbconvert_exporter": "python",
   "pygments_lexer": "ipython3",
   "version": "3.10.9"
  }
 },
 "nbformat": 4,
 "nbformat_minor": 1
}
